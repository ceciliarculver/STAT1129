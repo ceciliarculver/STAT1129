{
 "cells": [
  {
   "cell_type": "markdown",
   "id": "9ad7046a",
   "metadata": {},
   "source": [
    "## Question 1"
   ]
  },
  {
   "cell_type": "code",
   "execution_count": 2,
   "id": "d04871f6",
   "metadata": {},
   "outputs": [
    {
     "name": "stdout",
     "output_type": "stream",
     "text": [
      "0\n",
      "1\n",
      "2\n",
      "3\n",
      "4\n"
     ]
    }
   ],
   "source": [
    "n = 0\n",
    "while n < 10:\n",
    "    print(n)\n",
    "    n += 1\n",
    "    if n == 5:\n",
    "        break"
   ]
  },
  {
   "cell_type": "markdown",
   "id": "5dd500bf",
   "metadata": {},
   "source": [
    "## Question 2"
   ]
  },
  {
   "cell_type": "code",
   "execution_count": 4,
   "id": "f5546fdf",
   "metadata": {},
   "outputs": [
    {
     "name": "stdout",
     "output_type": "stream",
     "text": [
      "0\n",
      "1\n",
      "2\n",
      "3\n",
      "4\n",
      "5 is not less than 5\n"
     ]
    }
   ],
   "source": [
    "n = 0\n",
    "while n < 5:\n",
    "    print(n)\n",
    "    n += 1\n",
    "else:\n",
    "    print(n,'is not less than 5')"
   ]
  },
  {
   "cell_type": "markdown",
   "id": "da273b6c",
   "metadata": {},
   "source": [
    "## Question 3"
   ]
  },
  {
   "cell_type": "code",
   "execution_count": 7,
   "id": "1a754b35",
   "metadata": {},
   "outputs": [
    {
     "name": "stdout",
     "output_type": "stream",
     "text": [
      "I like Banana\n",
      "I like Mango\n",
      "I like Canteloupe\n",
      "Is apple really a fruit?\n"
     ]
    }
   ],
   "source": [
    "fruits = ['Banana','Mango','Canteloupe','Apple','Watermelon']\n",
    "\n",
    "for f in fruits:\n",
    "    if f == 'Apple':\n",
    "        print('Is apple really a fruit?')\n",
    "        break\n",
    "    print('I like',f)"
   ]
  },
  {
   "cell_type": "markdown",
   "id": "041bb42a",
   "metadata": {},
   "source": [
    "## Question 4"
   ]
  },
  {
   "cell_type": "code",
   "execution_count": 11,
   "id": "98a2ed1c",
   "metadata": {},
   "outputs": [
    {
     "name": "stdout",
     "output_type": "stream",
     "text": [
      "465\n"
     ]
    }
   ],
   "source": [
    "n = 0\n",
    "total = 0\n",
    "\n",
    "while n < 31:\n",
    "    total += n\n",
    "    n += 1\n",
    "print(total)"
   ]
  },
  {
   "cell_type": "markdown",
   "id": "2cdf0ed4",
   "metadata": {},
   "source": [
    "## Question 5"
   ]
  },
  {
   "cell_type": "code",
   "execution_count": 17,
   "id": "c3a1d08e",
   "metadata": {},
   "outputs": [
    {
     "name": "stdout",
     "output_type": "stream",
     "text": [
      "F\n"
     ]
    }
   ],
   "source": [
    "grade = 55\n",
    "if grade >= 90:\n",
    "    print('A')\n",
    "elif grade >= 80:\n",
    "    print('B')\n",
    "elif grade >= 70:\n",
    "    print('C')\n",
    "elif grade >= 60:\n",
    "    print('D')\n",
    "else:\n",
    "    print('F')"
   ]
  },
  {
   "cell_type": "markdown",
   "id": "56acaeb1",
   "metadata": {},
   "source": [
    "## Question 6"
   ]
  },
  {
   "cell_type": "code",
   "execution_count": 40,
   "id": "99963da2",
   "metadata": {},
   "outputs": [
    {
     "name": "stdout",
     "output_type": "stream",
     "text": [
      "Andy 88 B\n",
      "Amy 66 D\n",
      "James 90 A\n",
      "Jules 55 F\n",
      "Arthur 77 C\n"
     ]
    }
   ],
   "source": [
    "marks = {'Andy':88, 'Amy':66, 'James': 90, 'Jules': 55, 'Arthur': 77}\n",
    "marks.items()\n",
    "for name, grade in marks.items():\n",
    "    if grade >= 90:\n",
    "        print(name,grade,'A')\n",
    "    elif grade >= 80:\n",
    "        print(name,grade,'B')\n",
    "    elif grade >= 70:\n",
    "        print(name,grade,'C')\n",
    "    elif grade >= 60:\n",
    "        print(name,grade,'D')\n",
    "    else:\n",
    "        print(name,grade,'F')"
   ]
  },
  {
   "cell_type": "code",
   "execution_count": 23,
   "id": "9337f84f",
   "metadata": {},
   "outputs": [
    {
     "name": "stdout",
     "output_type": "stream",
     "text": [
      "75.2\n"
     ]
    }
   ],
   "source": [
    "mean = sum(marks.values()) / len(marks)\n",
    "print(mean)"
   ]
  },
  {
   "cell_type": "code",
   "execution_count": 24,
   "id": "53011f56",
   "metadata": {},
   "outputs": [
    {
     "name": "stdout",
     "output_type": "stream",
     "text": [
      "90\n"
     ]
    }
   ],
   "source": [
    "maximum = max(marks.values())\n",
    "print(maximum)"
   ]
  },
  {
   "cell_type": "code",
   "execution_count": 25,
   "id": "d4c5b3a7",
   "metadata": {},
   "outputs": [
    {
     "name": "stdout",
     "output_type": "stream",
     "text": [
      "55\n"
     ]
    }
   ],
   "source": [
    "minimum = min(marks.values())\n",
    "print(minimum)"
   ]
  },
  {
   "cell_type": "code",
   "execution_count": 28,
   "id": "1470c779",
   "metadata": {},
   "outputs": [
    {
     "name": "stdout",
     "output_type": "stream",
     "text": [
      "Andy\n",
      "Amy\n"
     ]
    }
   ],
   "source": [
    "for name in marks.keys():\n",
    "    if 'J' in name:\n",
    "        break\n",
    "    print(name)\n",
    "    "
   ]
  },
  {
   "cell_type": "code",
   "execution_count": 35,
   "id": "5f5cda85",
   "metadata": {},
   "outputs": [],
   "source": [
    "names = list(marks.keys())"
   ]
  },
  {
   "cell_type": "code",
   "execution_count": 39,
   "id": "18026a5e",
   "metadata": {},
   "outputs": [
    {
     "name": "stdout",
     "output_type": "stream",
     "text": [
      "Andy\n",
      "Amy\n",
      "Arthur\n"
     ]
    }
   ],
   "source": [
    "n = 0\n",
    "while n < len(names):\n",
    "    if 'J' in names[n]:\n",
    "        n += 1\n",
    "        continue\n",
    "    else:\n",
    "        print(names[n])\n",
    "        n += 1"
   ]
  },
  {
   "cell_type": "code",
   "execution_count": null,
   "id": "3cfb3847",
   "metadata": {},
   "outputs": [],
   "source": []
  }
 ],
 "metadata": {
  "kernelspec": {
   "display_name": "Python 3 (ipykernel)",
   "language": "python",
   "name": "python3"
  },
  "language_info": {
   "codemirror_mode": {
    "name": "ipython",
    "version": 3
   },
   "file_extension": ".py",
   "mimetype": "text/x-python",
   "name": "python",
   "nbconvert_exporter": "python",
   "pygments_lexer": "ipython3",
   "version": "3.9.7"
  }
 },
 "nbformat": 4,
 "nbformat_minor": 5
}
