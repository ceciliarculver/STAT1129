{
 "cells": [
  {
   "cell_type": "markdown",
   "id": "d3cf45d5",
   "metadata": {},
   "source": [
    "## Homework 3"
   ]
  },
  {
   "cell_type": "markdown",
   "id": "9f3816bf",
   "metadata": {},
   "source": [
    "#### Question 1"
   ]
  },
  {
   "cell_type": "code",
   "execution_count": 2,
   "id": "df25a555",
   "metadata": {},
   "outputs": [],
   "source": [
    "marks = {'Andy':88, 'Amy':66, 'James': 90, 'Jules': 55, 'Arthur': 77}"
   ]
  },
  {
   "cell_type": "code",
   "execution_count": 3,
   "id": "943cdea7",
   "metadata": {},
   "outputs": [],
   "source": [
    "def grader(name):\n",
    "    if name in marks.keys():\n",
    "        return marks[name]\n",
    "    else:\n",
    "        print('Student not found')"
   ]
  },
  {
   "cell_type": "code",
   "execution_count": 4,
   "id": "42fa4b4a",
   "metadata": {},
   "outputs": [
    {
     "data": {
      "text/plain": [
       "88"
      ]
     },
     "execution_count": 4,
     "metadata": {},
     "output_type": "execute_result"
    }
   ],
   "source": [
    "grader('Andy')"
   ]
  },
  {
   "cell_type": "code",
   "execution_count": 5,
   "id": "9053769e",
   "metadata": {},
   "outputs": [
    {
     "data": {
      "text/plain": [
       "55"
      ]
     },
     "execution_count": 5,
     "metadata": {},
     "output_type": "execute_result"
    }
   ],
   "source": [
    "grader('Jules')"
   ]
  },
  {
   "cell_type": "code",
   "execution_count": 6,
   "id": "b3db6e65",
   "metadata": {
    "scrolled": true
   },
   "outputs": [
    {
     "name": "stdout",
     "output_type": "stream",
     "text": [
      "Student not found\n"
     ]
    }
   ],
   "source": [
    "grader('Mark')"
   ]
  },
  {
   "cell_type": "code",
   "execution_count": 9,
   "id": "29bf3e2a",
   "metadata": {},
   "outputs": [],
   "source": [
    "def avg_grades(grade_list):\n",
    "    return sum(grade_list.values()) / len(grade_list)"
   ]
  },
  {
   "cell_type": "code",
   "execution_count": 10,
   "id": "fc3c06d0",
   "metadata": {},
   "outputs": [
    {
     "data": {
      "text/plain": [
       "75.2"
      ]
     },
     "execution_count": 10,
     "metadata": {},
     "output_type": "execute_result"
    }
   ],
   "source": [
    "avg_grades(marks)"
   ]
  },
  {
   "cell_type": "markdown",
   "id": "549f9629",
   "metadata": {},
   "source": [
    "#### Question 2"
   ]
  },
  {
   "cell_type": "code",
   "execution_count": 15,
   "id": "5b21a57b",
   "metadata": {},
   "outputs": [],
   "source": [
    "def squares(num):\n",
    "    while num < 12:\n",
    "        print(num, 'squared is', num ** 2)\n",
    "        num += 1"
   ]
  },
  {
   "cell_type": "code",
   "execution_count": 16,
   "id": "9ff99716",
   "metadata": {},
   "outputs": [
    {
     "name": "stdout",
     "output_type": "stream",
     "text": [
      "8 squared is 64\n",
      "9 squared is 81\n",
      "10 squared is 100\n",
      "11 squared is 121\n"
     ]
    }
   ],
   "source": [
    "squares(8)"
   ]
  },
  {
   "cell_type": "markdown",
   "id": "c8ede2b7",
   "metadata": {},
   "source": [
    "#### Question 3"
   ]
  },
  {
   "cell_type": "code",
   "execution_count": 40,
   "id": "0b63603d",
   "metadata": {},
   "outputs": [],
   "source": [
    "def sum_function(num):\n",
    "    n = 1\n",
    "    total = 0\n",
    "    while n <= num:\n",
    "        total += n\n",
    "        n += 1\n",
    "    print(total)"
   ]
  },
  {
   "cell_type": "code",
   "execution_count": 41,
   "id": "780b1108",
   "metadata": {},
   "outputs": [
    {
     "name": "stdout",
     "output_type": "stream",
     "text": [
      "36\n"
     ]
    }
   ],
   "source": [
    "sum_function(8)"
   ]
  },
  {
   "cell_type": "markdown",
   "id": "63d17134",
   "metadata": {},
   "source": [
    "#### Question 4"
   ]
  },
  {
   "cell_type": "code",
   "execution_count": 35,
   "id": "2de5158a",
   "metadata": {},
   "outputs": [],
   "source": [
    "def sum_forloop(num):\n",
    "    total = 0\n",
    "    for n in range(num + 1):\n",
    "        total += n\n",
    "        print(total)"
   ]
  },
  {
   "cell_type": "code",
   "execution_count": 36,
   "id": "94f85249",
   "metadata": {},
   "outputs": [
    {
     "name": "stdout",
     "output_type": "stream",
     "text": [
      "0\n",
      "1\n",
      "3\n",
      "6\n",
      "10\n",
      "15\n",
      "21\n",
      "28\n",
      "36\n"
     ]
    }
   ],
   "source": [
    "sum_forloop(8)"
   ]
  },
  {
   "cell_type": "markdown",
   "id": "b29b0f6c",
   "metadata": {},
   "source": [
    "#### Question 5"
   ]
  },
  {
   "cell_type": "code",
   "execution_count": 37,
   "id": "7b7bae8e",
   "metadata": {},
   "outputs": [],
   "source": [
    "import statistics as stats\n",
    "\n",
    "def summary_stats(number_list):\n",
    "    print('Mean:', stats.mean(number_list))\n",
    "    print('Sum:', sum(number_list))\n",
    "    print('Standard Deviation:', stats.stdev(number_list))"
   ]
  },
  {
   "cell_type": "code",
   "execution_count": 43,
   "id": "911dca48",
   "metadata": {},
   "outputs": [
    {
     "name": "stdout",
     "output_type": "stream",
     "text": [
      "Mean: 50.5\n",
      "Sum: 5050\n",
      "Standard Deviation: 29.011491975882016\n"
     ]
    }
   ],
   "source": [
    "summary_stats(range(1,101))"
   ]
  },
  {
   "cell_type": "markdown",
   "id": "c398ed5f",
   "metadata": {},
   "source": [
    "#### Question 6"
   ]
  },
  {
   "cell_type": "code",
   "execution_count": 39,
   "id": "a437d028",
   "metadata": {},
   "outputs": [],
   "source": [
    "def minimum(v1, v2, v3, v4):\n",
    "    minvalue = v1\n",
    "    if v2 < minvalue:\n",
    "        minvalue = v2\n",
    "    if v3 < minvalue:\n",
    "        minvalue = v3\n",
    "    if v4 < minvalue:\n",
    "        minvalue = v4\n",
    "    return minvalue"
   ]
  },
  {
   "cell_type": "code",
   "execution_count": 70,
   "id": "64181330",
   "metadata": {},
   "outputs": [],
   "source": [
    "def print_min(v1, v2, v3, v4):\n",
    "    mini = 0\n",
    "    mini = minimum(v1, v2, v3, v4)\n",
    "    print(mini)"
   ]
  },
  {
   "cell_type": "code",
   "execution_count": 71,
   "id": "f8e18e5f",
   "metadata": {},
   "outputs": [
    {
     "name": "stdout",
     "output_type": "stream",
     "text": [
      "2\n"
     ]
    }
   ],
   "source": [
    "print_min(3,9,5,2)"
   ]
  }
 ],
 "metadata": {
  "kernelspec": {
   "display_name": "Python 3 (ipykernel)",
   "language": "python",
   "name": "python3"
  },
  "language_info": {
   "codemirror_mode": {
    "name": "ipython",
    "version": 3
   },
   "file_extension": ".py",
   "mimetype": "text/x-python",
   "name": "python",
   "nbconvert_exporter": "python",
   "pygments_lexer": "ipython3",
   "version": "3.9.7"
  }
 },
 "nbformat": 4,
 "nbformat_minor": 5
}
