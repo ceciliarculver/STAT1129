{
 "cells": [
  {
   "cell_type": "code",
   "execution_count": 55,
   "id": "55707564",
   "metadata": {},
   "outputs": [],
   "source": [
    "import string"
   ]
  },
  {
   "cell_type": "code",
   "execution_count": 56,
   "id": "8f00880b",
   "metadata": {},
   "outputs": [],
   "source": [
    "def open_file():\n",
    "    print('Enter file name')\n",
    "    name = input()\n",
    "    while True:\n",
    "        try:\n",
    "            file = open(name, 'r')\n",
    "            print(file.readline())\n",
    "            break\n",
    "        except:\n",
    "            print(\"Error when opening the file, re-enter the file name\")\n",
    "            name = input()\n",
    "    return file"
   ]
  },
  {
   "cell_type": "code",
   "execution_count": 69,
   "id": "9dc1e0dc",
   "metadata": {},
   "outputs": [],
   "source": [
    "def read_data(name):\n",
    "    # list of all the lines\n",
    "    with name as file:\n",
    "        lines = file.readlines()\n",
    "    # lower case\n",
    "    # remove line enders\n",
    "    for i in range(len(lines)):\n",
    "        lines[i] = lines[i].lower()\n",
    "        lines[i] = lines[i].replace('\\n', ',')\n",
    "    \n",
    "    # remove punctuation\n",
    "    for i in range(len(lines)):\n",
    "        for element in lines[i]:\n",
    "            if element in string.punctuation:\n",
    "                lines[i] = lines[i].replace(element, \"\")\n",
    "    print(lines)\n",
    "    "
   ]
  },
  {
   "cell_type": "code",
   "execution_count": 70,
   "id": "af68ad7f",
   "metadata": {},
   "outputs": [
    {
     "name": "stdout",
     "output_type": "stream",
     "text": [
      "Enter file name\n",
      "einstein.txt\n",
      "Try not to become a man of success, but rather try to become a man of value. \n",
      "\n",
      "['look deep into nature and then you will understand everything better', 'the true sign of intelligence is not knowledge but imagination ', 'we cannot solve our problems with the same thinking we used when we created them ', 'weakness of attitude becomes weakness of character', 'you cant blame gravity for falling in love ', 'the difference between stupidity and genius is that genius has its limits ']\n"
     ]
    }
   ],
   "source": [
    "def main():\n",
    "    name = open_file()\n",
    "    read_data(name)\n",
    "\n",
    "if __name__ == \"__main__\":\n",
    "    main()"
   ]
  },
  {
   "cell_type": "code",
   "execution_count": null,
   "id": "6c3aaa95",
   "metadata": {},
   "outputs": [],
   "source": []
  },
  {
   "cell_type": "code",
   "execution_count": null,
   "id": "62f74874",
   "metadata": {},
   "outputs": [],
   "source": []
  }
 ],
 "metadata": {
  "kernelspec": {
   "display_name": "Python 3 (ipykernel)",
   "language": "python",
   "name": "python3"
  },
  "language_info": {
   "codemirror_mode": {
    "name": "ipython",
    "version": 3
   },
   "file_extension": ".py",
   "mimetype": "text/x-python",
   "name": "python",
   "nbconvert_exporter": "python",
   "pygments_lexer": "ipython3",
   "version": "3.9.7"
  }
 },
 "nbformat": 4,
 "nbformat_minor": 5
}
