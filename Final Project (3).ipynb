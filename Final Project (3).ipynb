{
 "cells": [
  {
   "cell_type": "code",
   "execution_count": 87,
   "id": "7248d991",
   "metadata": {},
   "outputs": [],
   "source": [
    "import string"
   ]
  },
  {
   "cell_type": "code",
   "execution_count": 88,
   "id": "cca15f13",
   "metadata": {},
   "outputs": [],
   "source": [
    "def open_file():\n",
    "    print('Enter file name')\n",
    "    name = input()\n",
    "    while True:\n",
    "        try:\n",
    "            file = open(name, 'r')\n",
    "            break\n",
    "        except:\n",
    "            print(\"Error when opening the file, re-enter the file name\")\n",
    "            name = input()\n",
    "    return file"
   ]
  },
  {
   "cell_type": "code",
   "execution_count": 89,
   "id": "c59d6a18",
   "metadata": {},
   "outputs": [],
   "source": [
    "def read_data(name):\n",
    "    # list of all the lines\n",
    "    with name as file:\n",
    "        lines = file.readlines()\n",
    "    # lower case\n",
    "    # remove line enders\n",
    "    for i in range(len(lines)):\n",
    "        lines[i] = lines[i].lower()\n",
    "        lines[i] = lines[i].replace('\\n', ',')\n",
    "    # remove punctuation\n",
    "    for i in range(len(lines)):\n",
    "        for element in lines[i]:\n",
    "            if element in string.punctuation:\n",
    "                lines[i] = lines[i].replace(element, \"\")\n",
    " \n",
    "    #remove nonalphabetic\n",
    "    #for i in range(len(lines)):\n",
    "       # if not lines[i].isalpha(): \n",
    "        #    lines[i].replace(lines[i], ' ')\n",
    "        \n",
    "    # split each line into a list of words\n",
    "    for i in range(len(lines)):\n",
    "        lines[i] = list(lines[i].split()) \n",
    "    \n",
    "    # replace hyphen\n",
    "    for i in range(len(lines)):\n",
    "        for j in lines[i]:\n",
    "            if j == '-':\n",
    "                lines[i].remove(j)\n",
    "                \n",
    "    #searches for any empty lists in lines\n",
    "    for i in lines: \n",
    "        if not i:\n",
    "            lines.remove(i)\n",
    "    # remove words with less than two letters\n",
    "    for i in range(len(lines)):\n",
    "        for j in lines[i]:\n",
    "            if len(j) < 2:\n",
    "                lines[i].remove(j)\n",
    "    print('Processed lines')\n",
    "    print(lines)\n",
    "    \n",
    "    data_dict = {}\n",
    "    for i in range(len(lines)):\n",
    "        for j in lines[i]:\n",
    "            if j in data_dict.keys():\n",
    "                data_dict[j].append((i+1))\n",
    "            else:\n",
    "                data_dict[j] = list([(i+1)])\n",
    "    for j in data_dict.keys():\n",
    "        data_dict[j] = list(set(data_dict[j]))\n",
    "    \n",
    "    print('Data Dictionary')\n",
    "    print(data_dict)\n",
    "    return data_dict"
   ]
  },
  {
   "cell_type": "code",
   "execution_count": 90,
   "id": "b731e587",
   "metadata": {},
   "outputs": [],
   "source": [
    "def find_cooccurance(D, inp_str):\n",
    "    words = list(inp_str.split())\n",
    "    print(\"Words being tested for\")\n",
    "    print(words)\n",
    "    lines = []\n",
    "    \n",
    "    return lines"
   ]
  },
  {
   "cell_type": "code",
   "execution_count": 91,
   "id": "be4b8d09",
   "metadata": {},
   "outputs": [
    {
     "name": "stdout",
     "output_type": "stream",
     "text": [
      "Enter file name\n",
      "einstein.txt\n",
      "File opened\n",
      "Processed lines\n",
      "[['try', 'not', 'to', 'become', 'man', 'of', 'success', 'but', 'rather', 'try', 'to', 'become', 'man', 'of', 'value'], ['look', 'deep', 'into', 'nature', 'and', 'then', 'you', 'will', 'understand', 'everything', 'better'], ['the', 'true', 'sign', 'of', 'intelligence', 'is', 'not', 'knowledge', 'but', 'imagination'], ['we', 'cannot', 'solve', 'our', 'problems', 'with', 'the', 'same', 'thinking', 'we', 'used', 'when', 'we', 'created', 'them'], ['weakness', 'of', 'attitude', 'becomes', 'weakness', 'of', 'character'], ['you', 'cant', 'blame', 'gravity', 'for', 'falling', 'in', 'love'], ['the', 'difference', 'between', 'stupidity', 'and', 'genius', 'is', 'that', 'genius', 'has', 'its', 'limits']]\n",
      "Data Dictionary\n",
      "{'try': [1], 'not': [1, 3], 'to': [1], 'become': [1], 'man': [1], 'of': [1, 3, 5], 'success': [1], 'but': [1, 3], 'rather': [1], 'value': [1], 'look': [2], 'deep': [2], 'into': [2], 'nature': [2], 'and': [2, 7], 'then': [2], 'you': [2, 6], 'will': [2], 'understand': [2], 'everything': [2], 'better': [2], 'the': [3, 4, 7], 'true': [3], 'sign': [3], 'intelligence': [3], 'is': [3, 7], 'knowledge': [3], 'imagination': [3], 'we': [4], 'cannot': [4], 'solve': [4], 'our': [4], 'problems': [4], 'with': [4], 'same': [4], 'thinking': [4], 'used': [4], 'when': [4], 'created': [4], 'them': [4], 'weakness': [5], 'attitude': [5], 'becomes': [5], 'character': [5], 'cant': [6], 'blame': [6], 'gravity': [6], 'for': [6], 'falling': [6], 'in': [6], 'love': [6], 'difference': [7], 'between': [7], 'stupidity': [7], 'genius': [7], 'that': [7], 'has': [7], 'its': [7], 'limits': [7]}\n",
      "Enter list of words, seperated by spaces: plow grow slow\n",
      "Words being tested for\n",
      "['plow', 'grow', 'slow']\n",
      "Lines with all words\n",
      "[]\n"
     ]
    }
   ],
   "source": [
    "def main():\n",
    "    name = open_file()\n",
    "    print('File opened')\n",
    "    data_dict = read_data(name)\n",
    "    lines = find_cooccurance(data_dict, input('Enter list of words, seperated by spaces: '))\n",
    "    print('Lines with all words')\n",
    "    print(lines)\n",
    "if __name__ == \"__main__\":\n",
    "    main()"
   ]
  },
  {
   "cell_type": "code",
   "execution_count": 68,
   "id": "367f6603",
   "metadata": {},
   "outputs": [
    {
     "name": "stdout",
     "output_type": "stream",
     "text": [
      "Try not to become a man of success, but rather try to become a man of value. \n",
      "Look deep into nature, and then you will understand everything better.\n",
      "The true sign of intelligence is not knowledge but imagination. \n",
      "We cannot solve our problems with the same thinking we used when we created them. \n",
      "Weakness of attitude becomes weakness of character.\n",
      "You can't blame gravity for falling in love. \n",
      "The difference between stupidity and genius is that genius has its limits. \n",
      "\n"
     ]
    }
   ],
   "source": [
    "f = open('einstein.txt', 'r')\n",
    "print(f.read())\n",
    "f.close()"
   ]
  },
  {
   "cell_type": "code",
   "execution_count": null,
   "id": "6fbfdda0",
   "metadata": {},
   "outputs": [],
   "source": []
  }
 ],
 "metadata": {
  "kernelspec": {
   "display_name": "Python 3 (ipykernel)",
   "language": "python",
   "name": "python3"
  },
  "language_info": {
   "codemirror_mode": {
    "name": "ipython",
    "version": 3
   },
   "file_extension": ".py",
   "mimetype": "text/x-python",
   "name": "python",
   "nbconvert_exporter": "python",
   "pygments_lexer": "ipython3",
   "version": "3.9.7"
  }
 },
 "nbformat": 4,
 "nbformat_minor": 5
}
