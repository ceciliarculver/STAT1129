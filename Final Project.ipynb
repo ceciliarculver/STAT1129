{
 "cells": [
  {
   "cell_type": "code",
   "execution_count": 11,
   "id": "f7ea4934",
   "metadata": {},
   "outputs": [],
   "source": [
    "import string"
   ]
  },
  {
   "cell_type": "code",
   "execution_count": 52,
   "id": "ca53a8dd",
   "metadata": {},
   "outputs": [],
   "source": [
    "def open_file():\n",
    "    print('Enter file name')\n",
    "    name = input()\n",
    "    while True:\n",
    "        try:\n",
    "            file = open(name, 'r')\n",
    "            print(file.readline())\n",
    "            break\n",
    "        except:\n",
    "            print(\"Error when opening the file, re-enter the file name\")\n",
    "            name = input()\n",
    "    return file"
   ]
  },
  {
   "cell_type": "code",
   "execution_count": 53,
   "id": "a86e33a1",
   "metadata": {},
   "outputs": [],
   "source": [
    "def read_data(name):\n",
    "    with open(name) as file:\n",
    "        lines = file.readlines()\n",
    "    for i in range(len(lines)):\n",
    "        lines[i] = lines[i].lower()\n",
    "    print(lines)\n",
    "    #for ele in lines:\n",
    "        #if ele in string.punctuation:\n",
    "            #line = f.replace(ele, \"\")"
   ]
  },
  {
   "cell_type": "code",
   "execution_count": 54,
   "id": "e1a3a7f4",
   "metadata": {},
   "outputs": [
    {
     "name": "stdout",
     "output_type": "stream",
     "text": [
      "Enter file name\n",
      "einstein.txt\n",
      "Try not to become a man of success, but rather try to become a man of value. \n",
      "\n",
      "['try not to become a man of success, but rather try to become a man of value. \\n', 'look deep into nature, and then you will understand everything better.\\n', 'the true sign of intelligence is not knowledge but imagination. \\n', 'we cannot solve our problems with the same thinking we used when we created them. \\n', 'weakness of attitude becomes weakness of character.\\n', \"you can't blame gravity for falling in love. \\n\", 'the difference between stupidity and genius is that genius has its limits. \\n']\n"
     ]
    }
   ],
   "source": [
    "def main():\n",
    "    open_file()\n",
    "    name = \"einstein.txt\"\n",
    "    read_data(name)\n",
    "\n",
    "if __name__ == \"__main__\":\n",
    "    main()"
   ]
  },
  {
   "cell_type": "code",
   "execution_count": null,
   "id": "4b8df3f5",
   "metadata": {},
   "outputs": [],
   "source": []
  },
  {
   "cell_type": "code",
   "execution_count": null,
   "id": "1cbba040",
   "metadata": {},
   "outputs": [],
   "source": []
  }
 ],
 "metadata": {
  "kernelspec": {
   "display_name": "Python 3 (ipykernel)",
   "language": "python",
   "name": "python3"
  },
  "language_info": {
   "codemirror_mode": {
    "name": "ipython",
    "version": 3
   },
   "file_extension": ".py",
   "mimetype": "text/x-python",
   "name": "python",
   "nbconvert_exporter": "python",
   "pygments_lexer": "ipython3",
   "version": "3.9.7"
  }
 },
 "nbformat": 4,
 "nbformat_minor": 5
}
