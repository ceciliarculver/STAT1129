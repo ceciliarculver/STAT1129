{
 "cells": [
  {
   "cell_type": "code",
   "execution_count": 1,
   "id": "81d0b2d3",
   "metadata": {},
   "outputs": [],
   "source": [
    "import pandas as pd\n",
    "import json\n",
    "import matplotlib\n",
    "import matplotlib.pyplot as plt\n",
    "import numpy as np\n",
    "import statistics as stat"
   ]
  },
  {
   "cell_type": "markdown",
   "id": "87846a56",
   "metadata": {},
   "source": [
    "## Question 1"
   ]
  },
  {
   "cell_type": "code",
   "execution_count": 2,
   "id": "e523661c",
   "metadata": {},
   "outputs": [],
   "source": [
    "f = open('numbers.txt','r')\n",
    "\n",
    "content = f.read()\n",
    "\n",
    "numbers_list = content.replace('\\n', ',').split(\",\")\n",
    "\n",
    "numbers_list = [int(x) for x in numbers_list]\n",
    "\n",
    "f.close()"
   ]
  },
  {
   "cell_type": "code",
   "execution_count": 3,
   "id": "4e4dd27d",
   "metadata": {},
   "outputs": [
    {
     "name": "stdout",
     "output_type": "stream",
     "text": [
      "0 : 9\n",
      "1 : 14\n",
      "2 : 19\n",
      "3 : 20\n",
      "4 : 22\n",
      "5 : 10\n",
      "6 : 26\n",
      "7 : 17\n",
      "8 : 13\n",
      "9 : 24\n",
      "10 : 14\n"
     ]
    }
   ],
   "source": [
    "import collections\n",
    "\n",
    "frequency = {}\n",
    "for item in numbers_list:\n",
    "        if (item in frequency):\n",
    "            frequency[item] += 1\n",
    "        else:\n",
    "            frequency[item] = 1\n",
    "ordered = collections.OrderedDict(sorted(frequency.items()))\n",
    "for k, v in ordered.items(): print(k, \":\", v)"
   ]
  },
  {
   "cell_type": "code",
   "execution_count": 4,
   "id": "e5aeca01",
   "metadata": {},
   "outputs": [
    {
     "data": {
      "text/plain": [
       "(array([ 9., 14., 19., 20., 22., 10., 26., 17., 13., 38.]),\n",
       " array([ 0.,  1.,  2.,  3.,  4.,  5.,  6.,  7.,  8.,  9., 10.]),\n",
       " <BarContainer object of 10 artists>)"
      ]
     },
     "execution_count": 4,
     "metadata": {},
     "output_type": "execute_result"
    },
    {
     "data": {
      "image/png": "[encoded data removed]",
      "text/plain": [
       "<Figure size 432x288 with 1 Axes>"
      ]
     },
     "metadata": {
      "needs_background": "light"
     },
     "output_type": "display_data"
    }
   ],
   "source": [
    "plt.hist(numbers_list)"
   ]
  },
  {
   "cell_type": "code",
   "execution_count": 5,
   "id": "f4ad96b4",
   "metadata": {},
   "outputs": [],
   "source": [
    "with open('data.json', 'w') as fp:\n",
    "    json.dump(frequency, fp)"
   ]
  },
  {
   "cell_type": "markdown",
   "id": "7fd2ce1b",
   "metadata": {},
   "source": [
    "## Question 2"
   ]
  },
  {
   "cell_type": "code",
   "execution_count": 6,
   "id": "9c02c681",
   "metadata": {},
   "outputs": [],
   "source": [
    "f = open('amazon-orders.csv','r')"
   ]
  },
  {
   "cell_type": "code",
   "execution_count": 7,
   "id": "f342fcd9",
   "metadata": {},
   "outputs": [],
   "source": [
    "amazon = pd.read_csv('amazon-orders.csv')"
   ]
  },
  {
   "cell_type": "code",
   "execution_count": 8,
   "id": "173e7050",
   "metadata": {},
   "outputs": [
    {
     "data": {
      "text/html": [
       "<div>\n",
       "<style scoped>\n",
       "    .dataframe tbody tr th:only-of-type {\n",
       "        vertical-align: middle;\n",
       "    }\n",
       "\n",
       "    .dataframe tbody tr th {\n",
       "        vertical-align: top;\n",
       "    }\n",
       "\n",
       "    .dataframe thead th {\n",
       "        text-align: right;\n",
       "    }\n",
       "</style>\n",
       "<table border=\"1\" class=\"dataframe\">\n",
       "  <thead>\n",
       "    <tr style=\"text-align: right;\">\n",
       "      <th></th>\n",
       "      <th>Order Date</th>\n",
       "      <th>Payment Instrument Type</th>\n",
       "      <th>Shipment Date</th>\n",
       "      <th>Subtotal</th>\n",
       "      <th>Shipping Charge</th>\n",
       "      <th>Tax Before Promotions</th>\n",
       "      <th>Total Promotions</th>\n",
       "      <th>Tax Charged</th>\n",
       "      <th>Total Charged</th>\n",
       "    </tr>\n",
       "  </thead>\n",
       "  <tbody>\n",
       "    <tr>\n",
       "      <th>0</th>\n",
       "      <td>04/01/19</td>\n",
       "      <td>Visa - 0001</td>\n",
       "      <td>04/01/19</td>\n",
       "      <td>$35.00</td>\n",
       "      <td>$0.00</td>\n",
       "      <td>$1.93</td>\n",
       "      <td>$0.00</td>\n",
       "      <td>$1.93</td>\n",
       "      <td>$36.93</td>\n",
       "    </tr>\n",
       "    <tr>\n",
       "      <th>1</th>\n",
       "      <td>04/01/19</td>\n",
       "      <td>Visa - 0001</td>\n",
       "      <td>04/01/19</td>\n",
       "      <td>$16.99</td>\n",
       "      <td>$0.00</td>\n",
       "      <td>$0.00</td>\n",
       "      <td>$0.00</td>\n",
       "      <td>$0.00</td>\n",
       "      <td>$16.99</td>\n",
       "    </tr>\n",
       "    <tr>\n",
       "      <th>2</th>\n",
       "      <td>04/01/19</td>\n",
       "      <td>Visa - 0001</td>\n",
       "      <td>04/01/19</td>\n",
       "      <td>$9.99</td>\n",
       "      <td>$0.00</td>\n",
       "      <td>$0.00</td>\n",
       "      <td>$0.00</td>\n",
       "      <td>$0.00</td>\n",
       "      <td>$9.99</td>\n",
       "    </tr>\n",
       "    <tr>\n",
       "      <th>3</th>\n",
       "      <td>04/04/19</td>\n",
       "      <td>Visa - 0001</td>\n",
       "      <td>04/05/19</td>\n",
       "      <td>$147.98</td>\n",
       "      <td>$0.00</td>\n",
       "      <td>$8.14</td>\n",
       "      <td>$0.00</td>\n",
       "      <td>$8.14</td>\n",
       "      <td>$156.12</td>\n",
       "    </tr>\n",
       "    <tr>\n",
       "      <th>4</th>\n",
       "      <td>04/05/19</td>\n",
       "      <td>Visa - 0001</td>\n",
       "      <td>04/07/19</td>\n",
       "      <td>$14.99</td>\n",
       "      <td>$0.00</td>\n",
       "      <td>$0.00</td>\n",
       "      <td>$0.00</td>\n",
       "      <td>$0.00</td>\n",
       "      <td>$14.99</td>\n",
       "    </tr>\n",
       "  </tbody>\n",
       "</table>\n",
       "</div>"
      ],
      "text/plain": [
       "  Order Date Payment Instrument Type Shipment Date Subtotal Shipping Charge  \\\n",
       "0   04/01/19             Visa - 0001      04/01/19   $35.00           $0.00   \n",
       "1   04/01/19             Visa - 0001      04/01/19   $16.99           $0.00   \n",
       "2   04/01/19             Visa - 0001      04/01/19    $9.99           $0.00   \n",
       "3   04/04/19             Visa - 0001      04/05/19  $147.98           $0.00   \n",
       "4   04/05/19             Visa - 0001      04/07/19   $14.99           $0.00   \n",
       "\n",
       "  Tax Before Promotions Total Promotions Tax Charged Total Charged  \n",
       "0                 $1.93            $0.00       $1.93        $36.93  \n",
       "1                 $0.00            $0.00       $0.00        $16.99  \n",
       "2                 $0.00            $0.00       $0.00         $9.99  \n",
       "3                 $8.14            $0.00       $8.14       $156.12  \n",
       "4                 $0.00            $0.00       $0.00        $14.99  "
      ]
     },
     "execution_count": 8,
     "metadata": {},
     "output_type": "execute_result"
    }
   ],
   "source": [
    "amazon.drop(['Order ID', 'Website','Purchase Order Number','Ordering Customer Email',\n",
    "             'Shipping Address Name','Shipping Address Street 1','Shipping Address Street 2',\n",
    "             'Order Status','Carrier Name & Tracking Number', 'Shipping Address City',\n",
    "             'Shipping Address State','Shipping Address Zip','Buyer Name','Group Name'], \n",
    "            axis = 1, inplace = True)\n",
    "\n",
    "amazon.head()"
   ]
  },
  {
   "cell_type": "code",
   "execution_count": 9,
   "id": "d525210a",
   "metadata": {},
   "outputs": [
    {
     "name": "stderr",
     "output_type": "stream",
     "text": [
      "/var/folders/b9/nh78rc011ks04l2gkz0qvtnh0000gn/T/ipykernel_88098/3614140729.py:1: FutureWarning: The default value of regex will change from True to False in a future version. In addition, single character regular expressions will *not* be treated as literal strings when regex=True.\n",
      "  amazon['Total Charged'] = amazon['Total Charged'].str.replace('$', '')\n",
      "/var/folders/b9/nh78rc011ks04l2gkz0qvtnh0000gn/T/ipykernel_88098/3614140729.py:3: FutureWarning: The default value of regex will change from True to False in a future version. In addition, single character regular expressions will *not* be treated as literal strings when regex=True.\n",
      "  amazon['Tax Charged'] = amazon['Tax Charged'].str.replace('$', '')\n",
      "/var/folders/b9/nh78rc011ks04l2gkz0qvtnh0000gn/T/ipykernel_88098/3614140729.py:5: FutureWarning: The default value of regex will change from True to False in a future version. In addition, single character regular expressions will *not* be treated as literal strings when regex=True.\n",
      "  amazon['Subtotal'] = amazon['Subtotal'].str.replace('$', '')\n",
      "/var/folders/b9/nh78rc011ks04l2gkz0qvtnh0000gn/T/ipykernel_88098/3614140729.py:7: FutureWarning: The default value of regex will change from True to False in a future version. In addition, single character regular expressions will *not* be treated as literal strings when regex=True.\n",
      "  amazon['Shipping Charge'] = amazon['Shipping Charge'].str.replace('$', '')\n"
     ]
    }
   ],
   "source": [
    "amazon['Total Charged'] = amazon['Total Charged'].str.replace('$', '')\n",
    "amazon['Total Charged'] = amazon['Total Charged'].astype('float')\n",
    "amazon['Tax Charged'] = amazon['Tax Charged'].str.replace('$', '')\n",
    "amazon['Tax Charged'] = amazon['Tax Charged'].astype('float')\n",
    "amazon['Subtotal'] = amazon['Subtotal'].str.replace('$', '')\n",
    "amazon['Subtotal'] = amazon['Subtotal'].astype('float')\n",
    "amazon['Shipping Charge'] = amazon['Shipping Charge'].str.replace('$', '')\n",
    "amazon['Shipping Charge'] = amazon['Shipping Charge'].astype('float')\n",
    "amazon['Order Date'] = amazon['Order Date'].astype('datetime64')"
   ]
  },
  {
   "cell_type": "code",
   "execution_count": 10,
   "id": "9d0cd284",
   "metadata": {},
   "outputs": [],
   "source": [
    "spending = amazon['Total Charged'].to_list()\n",
    "\n",
    "dates = amazon['Order Date'].to_list()\n",
    "months = pd.DatetimeIndex(dates).month\n",
    "\n",
    "tax = amazon['Tax Charged'].to_list()\n",
    "subtot = amazon['Subtotal'].to_list()\n",
    "ship = amazon['Shipping Charge'].to_list()"
   ]
  },
  {
   "cell_type": "code",
   "execution_count": 14,
   "id": "f5741d9d",
   "metadata": {},
   "outputs": [
    {
     "name": "stdout",
     "output_type": "stream",
     "text": [
      "Summary Statistics of Spending\n",
      "------------------------------\n",
      "Maximum Amount Spent on 1 Order: 210.99\n",
      "Minimum Amount Spent on 1 Order: 1.04\n",
      "Average Amount Spent per Order: 30.13\n",
      "Median Amount Spent per Order: 15.95\n",
      "Standard Deviation of Order Price: 36.42\n"
     ]
    }
   ],
   "source": [
    "# Summary Stats\n",
    "print('Summary Statistics of Spending')\n",
    "print('------------------------------')\n",
    "print('Maximum Amount Spent on 1 Order:', max(spending))\n",
    "print('Minimum Amount Spent on 1 Order:', min(spending))\n",
    "print('Average Amount Spent per Order:', round(stat.mean(spending),2))\n",
    "print('Median Amount Spent per Order:', stat.median(spending))\n",
    "print('Standard Deviation of Order Price:', round(stat.stdev(spending),2))"
   ]
  },
  {
   "cell_type": "code",
   "execution_count": 15,
   "id": "5a49bccc",
   "metadata": {},
   "outputs": [
    {
     "data": {
      "text/plain": [
       "Text(0, 0.5, 'Number of Orders')"
      ]
     },
     "execution_count": 15,
     "metadata": {},
     "output_type": "execute_result"
    },
    {
     "data": {
      "image/png": "[encoded data removed]",
      "text/plain": [
       "<Figure size 432x288 with 1 Axes>"
      ]
     },
     "metadata": {
      "needs_background": "light"
     },
     "output_type": "display_data"
    }
   ],
   "source": [
    "plt.hist(spending)\n",
    "plt.title('Histogram of Price per Order')\n",
    "plt.xlabel('Dollars Spent per Order')\n",
    "plt.ylabel('Number of Orders')"
   ]
  },
  {
   "cell_type": "code",
   "execution_count": 16,
   "id": "160abdec",
   "metadata": {},
   "outputs": [
    {
     "data": {
      "image/png": "[encoded data removed]",
      "text/plain": [
       "<Figure size 432x288 with 1 Axes>"
      ]
     },
     "metadata": {
      "needs_background": "light"
     },
     "output_type": "display_data"
    }
   ],
   "source": [
    "plt.bar(months, spending)\n",
    "plt.title('Spending per Month')\n",
    "plt.xlabel('Month')\n",
    "plt.ylabel('Dollard Spent')\n",
    "plt.show()"
   ]
  },
  {
   "cell_type": "code",
   "execution_count": 17,
   "id": "7c4e0dd4",
   "metadata": {},
   "outputs": [
    {
     "data": {
      "image/png": "[encoded data removed]",
      "text/plain": [
       "<Figure size 432x288 with 1 Axes>"
      ]
     },
     "metadata": {
      "needs_background": "light"
     },
     "output_type": "display_data"
    }
   ],
   "source": [
    "plt.plot(dates, spending, color = 'r', label = 'Total Charged')\n",
    "plt.plot(dates, tax, color = 'b', label = 'Tax')\n",
    "plt.plot(dates, subtot, color = 'g', label = 'Subtotal')\n",
    "plt.xticks(rotation = 60)\n",
    "plt.title('Subtotal, Tax, and Total Charged')\n",
    "plt.xlabel('Date')\n",
    "plt.ylabel('Dollars')\n",
    "plt.legend()\n",
    "plt.show()"
   ]
  },
  {
   "cell_type": "code",
   "execution_count": 18,
   "id": "793bc4da",
   "metadata": {},
   "outputs": [
    {
     "data": {
      "image/png": "[encoded data removed]",
      "text/plain": [
       "<Figure size 432x288 with 1 Axes>"
      ]
     },
     "metadata": {},
     "output_type": "display_data"
    }
   ],
   "source": [
    "subtot_sum = sum(subtot)\n",
    "tax_sum = sum(tax)\n",
    "ship_sum = sum(ship)\n",
    "\n",
    "subtot_v_tax = [subtot_sum, tax_sum, ship_sum]\n",
    "labels = ['Price','Tax', 'Shipping']\n",
    "\n",
    "plt.pie(subtot_v_tax, labels = labels, explode = [0, 0.1, 0.2])\n",
    "plt.title('Make-Up of Total Charged')\n",
    "plt.show()"
   ]
  },
  {
   "cell_type": "code",
   "execution_count": null,
   "id": "97a6283c",
   "metadata": {},
   "outputs": [],
   "source": []
  }
 ],
 "metadata": {
  "kernelspec": {
   "display_name": "Python 3 (ipykernel)",
   "language": "python",
   "name": "python3"
  },
  "language_info": {
   "codemirror_mode": {
    "name": "ipython",
    "version": 3
   },
   "file_extension": ".py",
   "mimetype": "text/x-python",
   "name": "python",
   "nbconvert_exporter": "python",
   "pygments_lexer": "ipython3",
   "version": "3.9.7"
  }
 },
 "nbformat": 4,
 "nbformat_minor": 5
}
